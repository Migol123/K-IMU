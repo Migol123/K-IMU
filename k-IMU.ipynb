{
  "cells": [
    {
      "cell_type": "markdown",
      "metadata": {
        "id": "view-in-github",
        "colab_type": "text"
      },
      "source": [
        "<a href=\"https://colab.research.google.com/github/Migol123/K-IMU/blob/main/k-IMU.ipynb\" target=\"_parent\"><img src=\"https://colab.research.google.com/assets/colab-badge.svg\" alt=\"Open In Colab\"/></a>"
      ]
    },
    {
      "cell_type": "code",
      "execution_count": null,
      "metadata": {
        "colab": {
          "base_uri": "https://localhost:8080/"
        },
        "id": "_f4rsRehRKYG",
        "outputId": "583cb42f-8da9-418f-a4ac-789ceae357b8"
      },
      "outputs": [
        {
          "output_type": "stream",
          "name": "stdout",
          "text": [
            "Requirement already satisfied: tensorboard in /usr/local/lib/python3.10/dist-packages (2.15.2)\n",
            "Requirement already satisfied: absl-py>=0.4 in /usr/local/lib/python3.10/dist-packages (from tensorboard) (1.4.0)\n",
            "Requirement already satisfied: grpcio>=1.48.2 in /usr/local/lib/python3.10/dist-packages (from tensorboard) (1.64.1)\n",
            "Requirement already satisfied: google-auth<3,>=1.6.3 in /usr/local/lib/python3.10/dist-packages (from tensorboard) (2.27.0)\n",
            "Requirement already satisfied: google-auth-oauthlib<2,>=0.5 in /usr/local/lib/python3.10/dist-packages (from tensorboard) (1.2.0)\n",
            "Requirement already satisfied: markdown>=2.6.8 in /usr/local/lib/python3.10/dist-packages (from tensorboard) (3.6)\n",
            "Requirement already satisfied: numpy>=1.12.0 in /usr/local/lib/python3.10/dist-packages (from tensorboard) (1.25.2)\n",
            "Requirement already satisfied: protobuf!=4.24.0,>=3.19.6 in /usr/local/lib/python3.10/dist-packages (from tensorboard) (3.20.3)\n",
            "Requirement already satisfied: requests<3,>=2.21.0 in /usr/local/lib/python3.10/dist-packages (from tensorboard) (2.31.0)\n",
            "Requirement already satisfied: setuptools>=41.0.0 in /usr/local/lib/python3.10/dist-packages (from tensorboard) (67.7.2)\n",
            "Requirement already satisfied: six>1.9 in /usr/local/lib/python3.10/dist-packages (from tensorboard) (1.16.0)\n",
            "Requirement already satisfied: tensorboard-data-server<0.8.0,>=0.7.0 in /usr/local/lib/python3.10/dist-packages (from tensorboard) (0.7.2)\n",
            "Requirement already satisfied: werkzeug>=1.0.1 in /usr/local/lib/python3.10/dist-packages (from tensorboard) (3.0.3)\n",
            "Requirement already satisfied: cachetools<6.0,>=2.0.0 in /usr/local/lib/python3.10/dist-packages (from google-auth<3,>=1.6.3->tensorboard) (5.3.3)\n",
            "Requirement already satisfied: pyasn1-modules>=0.2.1 in /usr/local/lib/python3.10/dist-packages (from google-auth<3,>=1.6.3->tensorboard) (0.4.0)\n",
            "Requirement already satisfied: rsa<5,>=3.1.4 in /usr/local/lib/python3.10/dist-packages (from google-auth<3,>=1.6.3->tensorboard) (4.9)\n",
            "Requirement already satisfied: requests-oauthlib>=0.7.0 in /usr/local/lib/python3.10/dist-packages (from google-auth-oauthlib<2,>=0.5->tensorboard) (1.3.1)\n",
            "Requirement already satisfied: charset-normalizer<4,>=2 in /usr/local/lib/python3.10/dist-packages (from requests<3,>=2.21.0->tensorboard) (3.3.2)\n",
            "Requirement already satisfied: idna<4,>=2.5 in /usr/local/lib/python3.10/dist-packages (from requests<3,>=2.21.0->tensorboard) (3.7)\n",
            "Requirement already satisfied: urllib3<3,>=1.21.1 in /usr/local/lib/python3.10/dist-packages (from requests<3,>=2.21.0->tensorboard) (2.0.7)\n",
            "Requirement already satisfied: certifi>=2017.4.17 in /usr/local/lib/python3.10/dist-packages (from requests<3,>=2.21.0->tensorboard) (2024.6.2)\n",
            "Requirement already satisfied: MarkupSafe>=2.1.1 in /usr/local/lib/python3.10/dist-packages (from werkzeug>=1.0.1->tensorboard) (2.1.5)\n",
            "Requirement already satisfied: pyasn1<0.7.0,>=0.4.6 in /usr/local/lib/python3.10/dist-packages (from pyasn1-modules>=0.2.1->google-auth<3,>=1.6.3->tensorboard) (0.6.0)\n",
            "Requirement already satisfied: oauthlib>=3.0.0 in /usr/local/lib/python3.10/dist-packages (from requests-oauthlib>=0.7.0->google-auth-oauthlib<2,>=0.5->tensorboard) (3.2.2)\n",
            "Collecting stable-baselines3\n",
            "  Downloading stable_baselines3-2.3.2-py3-none-any.whl (182 kB)\n",
            "\u001b[2K     \u001b[90m━━━━━━━━━━━━━━━━━━━━━━━━━━━━━━━━━━━━━━━━\u001b[0m \u001b[32m182.3/182.3 kB\u001b[0m \u001b[31m1.4 MB/s\u001b[0m eta \u001b[36m0:00:00\u001b[0m\n",
            "\u001b[?25hCollecting gymnasium<0.30,>=0.28.1 (from stable-baselines3)\n",
            "  Downloading gymnasium-0.29.1-py3-none-any.whl (953 kB)\n",
            "\u001b[2K     \u001b[90m━━━━━━━━━━━━━━━━━━━━━━━━━━━━━━━━━━━━━━━━\u001b[0m \u001b[32m953.9/953.9 kB\u001b[0m \u001b[31m11.2 MB/s\u001b[0m eta \u001b[36m0:00:00\u001b[0m\n",
            "\u001b[?25hRequirement already satisfied: numpy>=1.20 in /usr/local/lib/python3.10/dist-packages (from stable-baselines3) (1.25.2)\n",
            "Requirement already satisfied: torch>=1.13 in /usr/local/lib/python3.10/dist-packages (from stable-baselines3) (2.3.0+cu121)\n",
            "Requirement already satisfied: cloudpickle in /usr/local/lib/python3.10/dist-packages (from stable-baselines3) (2.2.1)\n",
            "Requirement already satisfied: pandas in /usr/local/lib/python3.10/dist-packages (from stable-baselines3) (2.0.3)\n",
            "Requirement already satisfied: matplotlib in /usr/local/lib/python3.10/dist-packages (from stable-baselines3) (3.7.1)\n",
            "Requirement already satisfied: typing-extensions>=4.3.0 in /usr/local/lib/python3.10/dist-packages (from gymnasium<0.30,>=0.28.1->stable-baselines3) (4.12.1)\n",
            "Collecting farama-notifications>=0.0.1 (from gymnasium<0.30,>=0.28.1->stable-baselines3)\n",
            "  Downloading Farama_Notifications-0.0.4-py3-none-any.whl (2.5 kB)\n",
            "Requirement already satisfied: filelock in /usr/local/lib/python3.10/dist-packages (from torch>=1.13->stable-baselines3) (3.14.0)\n",
            "Requirement already satisfied: sympy in /usr/local/lib/python3.10/dist-packages (from torch>=1.13->stable-baselines3) (1.12.1)\n",
            "Requirement already satisfied: networkx in /usr/local/lib/python3.10/dist-packages (from torch>=1.13->stable-baselines3) (3.3)\n",
            "Requirement already satisfied: jinja2 in /usr/local/lib/python3.10/dist-packages (from torch>=1.13->stable-baselines3) (3.1.4)\n",
            "Requirement already satisfied: fsspec in /usr/local/lib/python3.10/dist-packages (from torch>=1.13->stable-baselines3) (2023.6.0)\n",
            "Collecting nvidia-cuda-nvrtc-cu12==12.1.105 (from torch>=1.13->stable-baselines3)\n",
            "  Using cached nvidia_cuda_nvrtc_cu12-12.1.105-py3-none-manylinux1_x86_64.whl (23.7 MB)\n",
            "Collecting nvidia-cuda-runtime-cu12==12.1.105 (from torch>=1.13->stable-baselines3)\n",
            "  Using cached nvidia_cuda_runtime_cu12-12.1.105-py3-none-manylinux1_x86_64.whl (823 kB)\n",
            "Collecting nvidia-cuda-cupti-cu12==12.1.105 (from torch>=1.13->stable-baselines3)\n",
            "  Using cached nvidia_cuda_cupti_cu12-12.1.105-py3-none-manylinux1_x86_64.whl (14.1 MB)\n",
            "Collecting nvidia-cudnn-cu12==8.9.2.26 (from torch>=1.13->stable-baselines3)\n",
            "  Using cached nvidia_cudnn_cu12-8.9.2.26-py3-none-manylinux1_x86_64.whl (731.7 MB)\n",
            "Collecting nvidia-cublas-cu12==12.1.3.1 (from torch>=1.13->stable-baselines3)\n",
            "  Using cached nvidia_cublas_cu12-12.1.3.1-py3-none-manylinux1_x86_64.whl (410.6 MB)\n",
            "Collecting nvidia-cufft-cu12==11.0.2.54 (from torch>=1.13->stable-baselines3)\n",
            "  Using cached nvidia_cufft_cu12-11.0.2.54-py3-none-manylinux1_x86_64.whl (121.6 MB)\n",
            "Collecting nvidia-curand-cu12==10.3.2.106 (from torch>=1.13->stable-baselines3)\n",
            "  Using cached nvidia_curand_cu12-10.3.2.106-py3-none-manylinux1_x86_64.whl (56.5 MB)\n",
            "Collecting nvidia-cusolver-cu12==11.4.5.107 (from torch>=1.13->stable-baselines3)\n",
            "  Using cached nvidia_cusolver_cu12-11.4.5.107-py3-none-manylinux1_x86_64.whl (124.2 MB)\n",
            "Collecting nvidia-cusparse-cu12==12.1.0.106 (from torch>=1.13->stable-baselines3)\n",
            "  Using cached nvidia_cusparse_cu12-12.1.0.106-py3-none-manylinux1_x86_64.whl (196.0 MB)\n",
            "Collecting nvidia-nccl-cu12==2.20.5 (from torch>=1.13->stable-baselines3)\n",
            "  Using cached nvidia_nccl_cu12-2.20.5-py3-none-manylinux2014_x86_64.whl (176.2 MB)\n",
            "Collecting nvidia-nvtx-cu12==12.1.105 (from torch>=1.13->stable-baselines3)\n",
            "  Using cached nvidia_nvtx_cu12-12.1.105-py3-none-manylinux1_x86_64.whl (99 kB)\n",
            "Requirement already satisfied: triton==2.3.0 in /usr/local/lib/python3.10/dist-packages (from torch>=1.13->stable-baselines3) (2.3.0)\n",
            "Collecting nvidia-nvjitlink-cu12 (from nvidia-cusolver-cu12==11.4.5.107->torch>=1.13->stable-baselines3)\n",
            "  Downloading nvidia_nvjitlink_cu12-12.5.40-py3-none-manylinux2014_x86_64.whl (21.3 MB)\n",
            "\u001b[2K     \u001b[90m━━━━━━━━━━━━━━━━━━━━━━━━━━━━━━━━━━━━━━━━\u001b[0m \u001b[32m21.3/21.3 MB\u001b[0m \u001b[31m49.0 MB/s\u001b[0m eta \u001b[36m0:00:00\u001b[0m\n",
            "\u001b[?25hRequirement already satisfied: contourpy>=1.0.1 in /usr/local/lib/python3.10/dist-packages (from matplotlib->stable-baselines3) (1.2.1)\n",
            "Requirement already satisfied: cycler>=0.10 in /usr/local/lib/python3.10/dist-packages (from matplotlib->stable-baselines3) (0.12.1)\n",
            "Requirement already satisfied: fonttools>=4.22.0 in /usr/local/lib/python3.10/dist-packages (from matplotlib->stable-baselines3) (4.53.0)\n",
            "Requirement already satisfied: kiwisolver>=1.0.1 in /usr/local/lib/python3.10/dist-packages (from matplotlib->stable-baselines3) (1.4.5)\n",
            "Requirement already satisfied: packaging>=20.0 in /usr/local/lib/python3.10/dist-packages (from matplotlib->stable-baselines3) (24.0)\n",
            "Requirement already satisfied: pillow>=6.2.0 in /usr/local/lib/python3.10/dist-packages (from matplotlib->stable-baselines3) (9.4.0)\n",
            "Requirement already satisfied: pyparsing>=2.3.1 in /usr/local/lib/python3.10/dist-packages (from matplotlib->stable-baselines3) (3.1.2)\n",
            "Requirement already satisfied: python-dateutil>=2.7 in /usr/local/lib/python3.10/dist-packages (from matplotlib->stable-baselines3) (2.8.2)\n",
            "Requirement already satisfied: pytz>=2020.1 in /usr/local/lib/python3.10/dist-packages (from pandas->stable-baselines3) (2023.4)\n",
            "Requirement already satisfied: tzdata>=2022.1 in /usr/local/lib/python3.10/dist-packages (from pandas->stable-baselines3) (2024.1)\n",
            "Requirement already satisfied: six>=1.5 in /usr/local/lib/python3.10/dist-packages (from python-dateutil>=2.7->matplotlib->stable-baselines3) (1.16.0)\n",
            "Requirement already satisfied: MarkupSafe>=2.0 in /usr/local/lib/python3.10/dist-packages (from jinja2->torch>=1.13->stable-baselines3) (2.1.5)\n",
            "Requirement already satisfied: mpmath<1.4.0,>=1.1.0 in /usr/local/lib/python3.10/dist-packages (from sympy->torch>=1.13->stable-baselines3) (1.3.0)\n",
            "Installing collected packages: farama-notifications, nvidia-nvtx-cu12, nvidia-nvjitlink-cu12, nvidia-nccl-cu12, nvidia-curand-cu12, nvidia-cufft-cu12, nvidia-cuda-runtime-cu12, nvidia-cuda-nvrtc-cu12, nvidia-cuda-cupti-cu12, nvidia-cublas-cu12, gymnasium, nvidia-cusparse-cu12, nvidia-cudnn-cu12, nvidia-cusolver-cu12, stable-baselines3\n"
          ]
        }
      ],
      "source": [
        "!pip install tensorboard\n",
        "!pip install stable-baselines3\n",
        "!pip install gymnasium\n",
        "!pip install shimmy\n",
        "!pip install torch\n",
        "!pip install stable-baselines3 gym"
      ]
    },
    {
      "cell_type": "code",
      "execution_count": null,
      "metadata": {
        "id": "0TIh8_W9hijW"
      },
      "outputs": [],
      "source": [
        "import pandas as pd"
      ]
    },
    {
      "cell_type": "markdown",
      "metadata": {
        "id": "L0Ktq6qXnpCj"
      },
      "source": [
        "#Ubicacion de instalaciones"
      ]
    },
    {
      "cell_type": "code",
      "execution_count": null,
      "metadata": {
        "id": "NlugF4PUhgkI"
      },
      "outputs": [],
      "source": [
        "url = 'https://docs.google.com/spreadsheets/d/1jmwHTZZQeq6GykdGES0MEd8P1RuVwyzo/edit#gid=1920166751'\n",
        "df_fac = pd.read_csv(f\"{url.replace('/edit#gid=', '/export?format=csv&gid=')}\")\n",
        "df_fac"
      ]
    },
    {
      "cell_type": "code",
      "execution_count": null,
      "metadata": {
        "id": "hpr5YDxtkHlg"
      },
      "outputs": [],
      "source": [
        "import geopandas as gpd\n",
        "from shapely.geometry import shape"
      ]
    },
    {
      "cell_type": "markdown",
      "metadata": {
        "id": "XiTNIcSUnelp"
      },
      "source": [
        "#Puntos de demanda"
      ]
    },
    {
      "cell_type": "code",
      "execution_count": null,
      "metadata": {
        "id": "J03JwRlYjA94"
      },
      "outputs": [],
      "source": [
        "deman = gpd.read_file('https://drive.google.com/uc?id=1isYwg_uP5p4PpNcbHYjeU9CN6kLOrkmd')\n",
        "deman=deman[deman['distrito'] == 'ALTO SELVA ALEGRE'].drop(['OBJECTID_1', 'departam','provinci','distrito','nomccpp','objectid'], axis=1).rename(columns={'idmanzan': 'ID', 'COORD_LATITUD':'Latitud','COORD_LONGITUD':'Longitud' })\n",
        "deman['ID'] = deman['ID'].astype(str).str[-10:]\n",
        "deman.sort_values(by='ID',inplace=True)\n",
        "deman=deman.reset_index()"
      ]
    },
    {
      "cell_type": "markdown",
      "metadata": {
        "id": "h1hXKNGJnjLL"
      },
      "source": [
        "##Demanda"
      ]
    },
    {
      "cell_type": "code",
      "execution_count": null,
      "metadata": {
        "id": "OdohHmfWl-Aa"
      },
      "outputs": [],
      "source": [
        "url = 'https://docs.google.com/spreadsheets/d/1Y5W60AJfebmBBHtI3vrBNQIDChhVeY00/edit#gid=1140132466'\n",
        "df_dem = pd.read_csv(f\"{url.replace('/edit#gid=', '/export?format=csv&gid=')}\")\n",
        "df_dem"
      ]
    },
    {
      "cell_type": "markdown",
      "metadata": {
        "id": "LUiULP9-oTvK"
      },
      "source": [
        "#Distacias"
      ]
    },
    {
      "cell_type": "code",
      "execution_count": null,
      "metadata": {
        "id": "8IuouWjFkiZ6"
      },
      "outputs": [],
      "source": [
        "import pandas as pd\n",
        "\n",
        "spreadsheet_url = \"https://docs.google.com/spreadsheets/d/1rx5IESeIzV6BKRAi4QH2-2gZV8LTbBK0/edit#gid=1086669528\"\n",
        "\n",
        "csv_export_url = spreadsheet_url.replace(\"/edit#gid=\", \"/export?format=csv&gid=\")\n",
        "\n",
        "dist_ff = pd.read_csv(csv_export_url,header=None)\n",
        "\n",
        "spreadsheet_url = \"https://docs.google.com/spreadsheets/d/1kuidLyRNKRDQha0c3j7vOiKN19ObYzsS/edit#gid=1613718108\"\n",
        "\n",
        "csv_export_url = spreadsheet_url.replace(\"/edit#gid=\", \"/export?format=csv&gid=\")\n",
        "\n",
        "dist_fd = pd.read_csv(csv_export_url,header=None)"
      ]
    },
    {
      "cell_type": "code",
      "execution_count": null,
      "metadata": {
        "id": "rMpiErSmqz8n"
      },
      "outputs": [],
      "source": [
        "dist_fd=dist_fd.replace(',', '.', regex=True).astype(float)"
      ]
    },
    {
      "cell_type": "code",
      "execution_count": null,
      "metadata": {
        "id": "06-xb3TzrISm"
      },
      "outputs": [],
      "source": [
        "dist_fd"
      ]
    },
    {
      "cell_type": "code",
      "execution_count": null,
      "metadata": {
        "id": "VmTdFrG7oN9f"
      },
      "outputs": [],
      "source": [
        "fil, col=dist_fd.shape\n",
        "for i in range(col):\n",
        "  for j in range(fil):\n",
        "    dist_fd[i][j]= 1 if dist_fd[i][j]<=1.5 else 0\n",
        "dist_fd"
      ]
    },
    {
      "cell_type": "code",
      "execution_count": null,
      "metadata": {
        "id": "OaWOqY3nr-cH"
      },
      "outputs": [],
      "source": [
        "recuperar= dist_fd"
      ]
    },
    {
      "cell_type": "markdown",
      "metadata": {
        "id": "mANvrhqrpE1N"
      },
      "source": [
        "#Parametros"
      ]
    },
    {
      "cell_type": "code",
      "execution_count": null,
      "metadata": {
        "id": "elq6H3vRpDfa"
      },
      "outputs": [],
      "source": [
        "N = len(df_dem)\n",
        "print(N)\n",
        "M = len(df_fac)\n",
        "T = 5\n",
        "\n",
        "cap = 500\n",
        "q = df_fac['q'].to_numpy()\n",
        "q_max = 5\n",
        "\n",
        "a = dist_fd\n",
        "h_1 = df_dem['Afectados'].to_numpy() #demanda\n",
        "print(h_1)\n",
        "print()\n",
        "h = [[h_1[i] if t == 1 else 0\n",
        "      for t in range(T + 1)] for i in range(N)]\n",
        "print(h) #demanda en el tiempo T\n",
        "d = dist_ff\n",
        "w1 = 1000\n",
        "w2 = 250\n",
        "w3 = 1000\n",
        "#q"
      ]
    },
    {
      "cell_type": "code",
      "execution_count": null,
      "metadata": {
        "id": "tA2UmymFxVTy"
      },
      "outputs": [],
      "source": [
        "a=a.transpose()"
      ]
    },
    {
      "cell_type": "code",
      "execution_count": null,
      "metadata": {
        "id": "hHuBc-wyxhmI"
      },
      "outputs": [],
      "source": [
        "a"
      ]
    },
    {
      "cell_type": "code",
      "execution_count": null,
      "metadata": {
        "id": "hpIB7IjXAtAj"
      },
      "outputs": [],
      "source": [
        "!pip install stable-baselines3[extra]"
      ]
    },
    {
      "cell_type": "code",
      "execution_count": null,
      "metadata": {
        "id": "CqZJY3llHqqN"
      },
      "outputs": [],
      "source": [
        "N=982\n",
        "h_1=h_1[:982]"
      ]
    },
    {
      "cell_type": "code",
      "execution_count": null,
      "metadata": {
        "id": "kO1SnP2UIdt-"
      },
      "outputs": [],
      "source": [
        "num_demand_points = N\n",
        "num_facilities = M\n",
        "coverage_matrix = a[:32].to_numpy()\n",
        "demand_matrix = h_1\n",
        "print(num_demand_points,num_facilities,type(coverage_matrix),type(demand_matrix))"
      ]
    },
    {
      "cell_type": "code",
      "execution_count": null,
      "metadata": {
        "id": "Vl8xV_UqFc-8"
      },
      "outputs": [],
      "source": [
        "print(M)\n",
        "print(coverage_matrix.shape)\n",
        "print(N)\n",
        "print(len(h_1))"
      ]
    },
    {
      "cell_type": "code",
      "execution_count": null,
      "metadata": {
        "id": "sd86pwp0U2-B"
      },
      "outputs": [],
      "source": [
        "import random"
      ]
    },
    {
      "cell_type": "code",
      "execution_count": null,
      "metadata": {
        "id": "Cl1dRAuSV7VI"
      },
      "outputs": [],
      "source": [
        "import random\n",
        "import matplotlib.pyplot as plt\n",
        "import networkx as nx\n",
        "from math import sqrt"
      ]
    },
    {
      "cell_type": "code",
      "execution_count": null,
      "metadata": {
        "id": "rxozwjssstQR"
      },
      "outputs": [],
      "source": [
        "def generador_data(fac, dem, deman_max):\n",
        "    ancho = 2500\n",
        "    cor_dem = [(random.randint(1, ancho), random.randint(1, ancho)) for _ in range(dem)]\n",
        "    dem_p = [random.randint(1, deman_max) * 10 for _ in range(dem)]  # Tamaño de puntos escalado para visualización\n",
        "\n",
        "    cor_fac = [(random.randint(1, ancho), random.randint(1, ancho)) for _ in range(fac)]\n",
        "\n",
        "    # Crear el grafo\n",
        "    G = nx.Graph()\n",
        "\n",
        "    # Añadir nodos de demanda y facilidad al grafo\n",
        "    for i, coord in enumerate(cor_dem):\n",
        "        G.add_node(f\"D{i}\", pos=coord, demand=dem_p[i], color='red', size=dem_p[i])\n",
        "\n",
        "    for j, coord in enumerate(cor_fac):\n",
        "        G.add_node(f\"F{j}\", pos=coord, color='blue', size=100)  # Tamaño fijo para facilidades\n",
        "\n",
        "    # Conectar nodos si cumplen una condición específica (e.g., todos conectados)\n",
        "    cover=[]\n",
        "    for i, c_dem in enumerate(cor_dem):\n",
        "        for j, c_fac in enumerate(cor_fac):\n",
        "            # Conectar si la distancia es menor a un umbral, ajustar según necesidad\n",
        "            if sqrt((c_dem[0] - c_fac[0]) ** 2 + (c_dem[1] - c_fac[1]) ** 2) < 500:\n",
        "                cover.append(1)\n",
        "                G.add_edge(f\"D{i}\", f\"F{j}\")\n",
        "            else:\n",
        "                cover.append(0)\n",
        "\n",
        "    cover=m_cover=pd.DataFrame(np.array(cover).reshape(fac,dem))\n",
        "    # Establecer el tamaño de la figura (ancho x alto en pulgadas)\n",
        "    plt.figure(figsize=(15, 15))  # Ajuste del tamaño de la figura a 15x15 pulgadas\n",
        "    pos = nx.get_node_attributes(G, 'pos')\n",
        "    colors = [G.nodes[node]['color'] for node in G.nodes]\n",
        "    sizes = [G.nodes[node]['size'] for node in G.nodes]\n",
        "\n",
        "    nx.draw(G, pos, node_color=colors, node_size=sizes, with_labels=False, edge_color='gray', alpha=0.6)\n",
        "    plt.title('Red de Puntos de Demanda y Facilidades')\n",
        "    plt.show()\n",
        "    return dem_p,cover\n"
      ]
    },
    {
      "cell_type": "code",
      "execution_count": null,
      "metadata": {
        "id": "mChWI62gx-pA"
      },
      "outputs": [],
      "source": [
        "fac=33\n",
        "demp=1000\n",
        "deman_max=10\n",
        "m_demp,m_cover=generador_data(fac, demp, deman_max)"
      ]
    },
    {
      "cell_type": "code",
      "execution_count": null,
      "metadata": {
        "id": "piF0QOOczP_h"
      },
      "outputs": [],
      "source": [
        "import gymnasium as gym\n",
        "from gymnasium import spaces\n",
        "import numpy as np\n",
        "\n",
        "class HumanitarianFacilityLocationEnv(gym.Env):\n",
        "    def __init__(self, num_demand_points, num_facilities, num_days, coverage_matrix, demand_matrix, max_installations_per_facility=5):\n",
        "        super(HumanitarianFacilityLocationEnv, self).__init__()\n",
        "        self.num_demand_points = num_demand_points\n",
        "        self.num_facilities = num_facilities\n",
        "        self.num_days = num_days\n",
        "        self.current_day = 0\n",
        "        self.move_duration = 1  # Días que tarda en trasladarse una instalación\n",
        "        self.coverage_matrix = np.array(coverage_matrix, dtype=np.int32)\n",
        "        self.demand_matrix = np.array(demand_matrix, dtype=np.int32)\n",
        "        self.max_installations_per_facility = max_installations_per_facility\n",
        "\n",
        "        # Inicializar el número de instalaciones por facility\n",
        "        self.installations_per_facility = np.zeros(num_facilities, dtype=int)\n",
        "\n",
        "        # Espacio de acción: mover una instalación a una nueva ubicación (discretizado)\n",
        "        # Debes tener algo como esto:\n",
        "        self.action_space = spaces.MultiDiscrete([2, num_facilities, 100, 100])\n",
        "\n",
        "        # Espacio de observación: ubicaciones de instalaciones y puntos de demanda\n",
        "        self.observation_space = spaces.Box(low=0, high=100, shape=(self.num_facilities + self.num_demand_points, 2), dtype=np.float32)\n",
        "\n",
        "    def reset(self, seed=None, options=None):\n",
        "        super().reset(seed=seed)\n",
        "        if seed is not None:\n",
        "            np.random.seed(seed)\n",
        "        self.facility_locations = np.random.randint(0, 100, size=(self.num_facilities, 2))  # 100 es un valor arbitrario para coordenadas x e y\n",
        "        self.demand_point_locations = np.random.randint(0, 100, size=(self.num_demand_points, 2))\n",
        "        self.state = np.zeros((self.num_facilities + self.num_demand_points, 2), dtype=np.float32)\n",
        "        self.state[:self.num_facilities] = self.facility_locations\n",
        "        self.state[self.num_facilities:] = self.demand_point_locations\n",
        "        self.current_day = 0\n",
        "        self.move_end_day = np.full(self.num_facilities, -self.move_duration, dtype=int)  # Inicializar con días negativos\n",
        "        self.installations_per_facility.fill(0)  # Reiniciar el número de instalaciones por facility\n",
        "        return self.state, {}\n",
        "\n",
        "    def step(self, action):\n",
        "        action_type, facility_index, new_x, new_y = action\n",
        "\n",
        "        if action_type == 0:  # Colocar nueva instalación\n",
        "            if self.installations_per_facility[facility_index] < self.max_installations_per_facility:\n",
        "                self.facility_locations[facility_index] = [new_x, new_y]\n",
        "                self.installations_per_facility[facility_index] += 1\n",
        "                self.move_end_day[facility_index] = self.current_day + self.move_duration\n",
        "\n",
        "        elif action_type == 1:  # Mover instalación existente\n",
        "            if self.current_day > self.move_end_day[facility_index] and self.installations_per_facility[facility_index] < self.max_installations_per_facility:\n",
        "                self.facility_locations[facility_index] = [new_x, new_y]\n",
        "                self.move_end_day[facility_index] = self.current_day + self.move_duration\n",
        "\n",
        "        self.current_day += 1\n",
        "        self.state[:self.num_facilities] = self.facility_locations\n",
        "        self.state[self.num_facilities:] = self.demand_point_locations\n",
        "        total_cost = self._calculate_total_cost()\n",
        "        reward = -total_cost\n",
        "        terminated = self.current_day == self.num_days - 1\n",
        "        truncated = False\n",
        "        info = {\"total_cost\": total_cost}  # Agrega el costo total al diccionario info\n",
        "        return self.state, reward, terminated, truncated, info\n",
        "\n",
        "\n",
        "    def _calculate_total_cost(self):\n",
        "        total_cost = 0\n",
        "        for day in range(self.current_day + 1):\n",
        "            for i in range(self.num_demand_points):\n",
        "                # Filtrar las instalaciones que están operativas en el día actual\n",
        "                operational_facilities = np.where(self.move_end_day <= day)[0]\n",
        "                if operational_facilities.size > 0:\n",
        "                    # Verificar si al menos una instalación operativa cubre el punto de demanda i\n",
        "                    covered = np.any(self.coverage_matrix[operational_facilities, i] == 1)\n",
        "                    if covered:\n",
        "                        # Sumar el costo de satisfacer la demanda\n",
        "                        total_cost += self.demand_matrix[i]\n",
        "                    else:\n",
        "                        # Penalizar si ningún facility cubre este punto de demanda\n",
        "                        total_cost += 1000 * self.demand_matrix[i]  # Penalización por demanda no atendida\n",
        "                else:\n",
        "                    # Penalizar si no hay instalaciones operativas\n",
        "                    total_cost += 1000 * self.demand_matrix[i]\n",
        "\n",
        "        # Añadir costos de abrir y de instalar centros de distribución\n",
        "        num_opened_facilities = np.sum(self.installations_per_facility > 0)\n",
        "        num_installed_centers = np.sum(self.installations_per_facility)\n",
        "        total_cost += num_opened_facilities * 250  # Costo de abrir centros de distribución\n",
        "        total_cost += num_installed_centers * 1000  # Costo de instalar centros de distribución\n",
        "\n",
        "        return total_cost"
      ]
    },
    {
      "cell_type": "code",
      "source": [
        "class CostLoggingCallback(BaseCallback):\n",
        "    def __init__(self, verbose=0):\n",
        "        super(CostLoggingCallback, self).__init__(verbose)\n",
        "\n",
        "    def _on_step(self):\n",
        "        # Extraer 'infos' del entorno, que es donde se almacena el retorno de 'info' de 'step()'\n",
        "        infos = self.locals[\"infos\"]\n",
        "        if infos and 'total_cost' in infos[0]:\n",
        "            total_cost = infos[0]['total_cost']\n",
        "            self.logger.record('total_cost', total_cost)\n",
        "        return True"
      ],
      "metadata": {
        "id": "fChQBTf88elX"
      },
      "execution_count": null,
      "outputs": []
    },
    {
      "cell_type": "code",
      "execution_count": null,
      "metadata": {
        "id": "Mh_c4z5ezdq4"
      },
      "outputs": [],
      "source": [
        "from stable_baselines3.common.callbacks import BaseCallback\n",
        "\n",
        "class TrainingProgressCallback(BaseCallback):\n",
        "    def __init__(self, verbose=0):\n",
        "        super(TrainingProgressCallback, self).__init__(verbose)\n",
        "        self.n_steps = 0\n",
        "\n",
        "    def _on_step(self) -> bool:\n",
        "        self.n_steps += 1\n",
        "        if self.n_steps % 100 == 0:  # Imprime cada 100 steps\n",
        "            print(f\"Step number: {self.n_steps}\")\n",
        "        return True"
      ]
    },
    {
      "cell_type": "code",
      "execution_count": null,
      "metadata": {
        "id": "c1hxA6HLxhdq"
      },
      "outputs": [],
      "source": [
        "import gymnasium as gym\n",
        "from stable_baselines3 import PPO\n",
        "from stable_baselines3.common.vec_env import DummyVecEnv\n",
        "from stable_baselines3.common.monitor import Monitor\n",
        "from stable_baselines3.common.callbacks import EvalCallback\n",
        "import numpy as np\n",
        "import os\n",
        "\n",
        "# Definir las matrices de cobertura y demanda\n",
        "num_demand_points = demp\n",
        "num_facilities = fac\n",
        "coverage_matrix = m_cover\n",
        "demand_matrix = m_demp\n",
        "\n",
        "# Crear el entorno\n",
        "env = HumanitarianFacilityLocationEnv(\n",
        "    num_demand_points=num_demand_points,\n",
        "    num_facilities=num_facilities,\n",
        "    num_days=10,\n",
        "    coverage_matrix=coverage_matrix,\n",
        "    demand_matrix=demand_matrix,\n",
        "    max_installations_per_facility=5\n",
        ")\n",
        "\n",
        "# Envolver el entorno en DummyVecEnv y Monitor\n",
        "env = DummyVecEnv([lambda: Monitor(env)])\n",
        "\n",
        "# Configurar el registro para TensorBoard\n",
        "log_dir = \"./ppo_humanitarian_facility_location_logs/\"\n",
        "os.makedirs(log_dir, exist_ok=True)\n",
        "\n",
        "# Crear el modelo PPO con soporte para TensorBoard\n",
        "model = PPO(\"MlpPolicy\", env, verbose=1, tensorboard_log=log_dir)\n",
        "\n",
        "# Configurar los callbacks\n",
        "eval_callback = EvalCallback(env, best_model_save_path=log_dir,\n",
        "                             log_path=log_dir, eval_freq=500,\n",
        "                             deterministic=True, render=False)\n",
        "progress_callback = TrainingProgressCallback(verbose=1)\n",
        "\n",
        "# Entrenar el modelo con los callbacks\n",
        "cost_callback = CostLoggingCallback()\n",
        "\n",
        "model.learn(total_timesteps=10000, callback=[eval_callback, progress_callback, cost_callback])\n",
        "\n",
        "\n",
        "# Guardar el modelo entrenado\n",
        "model.save(\"ppo_humanitarian_facility_location\")\n"
      ]
    },
    {
      "cell_type": "code",
      "source": [
        "# Iniciar TensorBoard\n",
        "%load_ext tensorboard\n",
        "%tensorboard --logdir ./ppo_humanitarian_facility_location_logs/"
      ],
      "metadata": {
        "id": "6Z6BSf-n9IqB"
      },
      "execution_count": null,
      "outputs": []
    }
  ],
  "metadata": {
    "colab": {
      "provenance": [],
      "include_colab_link": true
    },
    "kernelspec": {
      "display_name": "Python 3",
      "name": "python3"
    },
    "language_info": {
      "name": "python"
    }
  },
  "nbformat": 4,
  "nbformat_minor": 0
}